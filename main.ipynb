{
 "cells": [
  {
   "cell_type": "markdown",
   "metadata": {},
   "source": [
    "# Imports"
   ]
  },
  {
   "cell_type": "code",
   "execution_count": 1,
   "metadata": {},
   "outputs": [
    {
     "name": "stderr",
     "output_type": "stream",
     "text": [
      "Using TensorFlow backend.\n"
     ]
    }
   ],
   "source": [
    "import os\n",
    "import numpy as np\n",
    "import pandas as pd\n",
    "from tqdm import tqdm_notebook as tqdm\n",
    "import zipfile\n",
    "from skimage.measure import compare_ssim as ssim\n",
    "\n",
    "import tensorflow as tf\n",
    "import keras.backend as K\n",
    "from keras.layers import Lambda, Input, Average\n",
    "from keras.models import Model"
   ]
  },
  {
   "cell_type": "code",
   "execution_count": 2,
   "metadata": {},
   "outputs": [],
   "source": [
    "os.environ[\"CUDA_DEVICE_ORDER\"] = \"PCI_BUS_ID\"  \n",
    "os.environ[\"CUDA_VISIBLE_DEVICES\"] = \"0\"\n",
    "\n",
    "import MCS2018\n",
    "\n",
    "net = MCS2018.Predictor(0)"
   ]
  },
  {
   "cell_type": "code",
   "execution_count": 3,
   "metadata": {},
   "outputs": [],
   "source": [
    "from utils.preprocessing import *\n",
    "from utils.common import load_data, gpu_config, FaceNetFinetuned, ModelEnsemble, Attacker"
   ]
  },
  {
   "cell_type": "markdown",
   "metadata": {},
   "source": [
    "### Load and preprocess data"
   ]
  },
  {
   "cell_type": "code",
   "execution_count": 4,
   "metadata": {},
   "outputs": [],
   "source": [
    "imgs_path = 'data/imgs/'\n",
    "train_imgs_source, train_imgs_target, desc_source, desc_target = load_data(\n",
    "    path_to_desc='data/train_descriptors_augmented20.npz')\n",
    "\n",
    "# augment targets with mirrored images\n",
    "train_imgs_target = np.hstack((train_imgs_target, train_imgs_target[:,:,:,::-1,:].copy()))"
   ]
  },
  {
   "cell_type": "markdown",
   "metadata": {},
   "source": [
    "### Make an ensemble of neural networks"
   ]
  },
  {
   "cell_type": "code",
   "execution_count": 5,
   "metadata": {},
   "outputs": [],
   "source": [
    "gpu_id = 0\n",
    "config = gpu_config(gpu_id)\n",
    "sess = tf.Session(config=config)\n",
    "K.set_session(sess)"
   ]
  },
  {
   "cell_type": "code",
   "execution_count": 6,
   "metadata": {},
   "outputs": [
    {
     "name": "stderr",
     "output_type": "stream",
     "text": [
      "/workspace/virtualenv36/lib/python3.6/site-packages/keras/models.py:282: UserWarning: No training configuration found in save file: the model was *not* compiled. Compile it manually.\n",
      "  warnings.warn('No training configuration found in save file: '\n"
     ]
    }
   ],
   "source": [
    "neural_net1 = FaceNetFinetuned(path_to_models='models/', model_name='bs256_adversarial_aug_bn.h5', bn=True)\n",
    "neural_net2 = FaceNetFinetuned(path_to_models='models/', model_name='bs256_adversarial_aug_bn2.h5', bn=True)\n",
    "neural_net3 = FaceNetFinetuned(path_to_models='models/', model_name='bs256_adversarial_aug_bn3.h5', bn=True)"
   ]
  },
  {
   "cell_type": "code",
   "execution_count": 7,
   "metadata": {},
   "outputs": [],
   "source": [
    "neural_net = ModelEnsemble([neural_net1, neural_net2, neural_net3])"
   ]
  },
  {
   "cell_type": "markdown",
   "metadata": {},
   "source": [
    "### Train attacker for submit"
   ]
  },
  {
   "cell_type": "code",
   "execution_count": 8,
   "metadata": {},
   "outputs": [],
   "source": [
    "submit_path = 'submit_main/'\n",
    "\n",
    "if not os.path.isdir(submit_path):\n",
    "    os.mkdir(submit_path)\n",
    "\n",
    "source_imgs_list = pd.read_csv('data/submit_list.csv')\n",
    "learning_rates = np.load('learning_rates.npz')['lr']"
   ]
  },
  {
   "cell_type": "code",
   "execution_count": 9,
   "metadata": {},
   "outputs": [],
   "source": [
    "attacker = Attacker(net, neural_net, sess)"
   ]
  },
  {
   "cell_type": "code",
   "execution_count": 10,
   "metadata": {
    "scrolled": true
   },
   "outputs": [
    {
     "name": "stdout",
     "output_type": "stream",
     "text": [
      "Ready attacker one!\n",
      "-------------------------------\n"
     ]
    },
    {
     "data": {
      "application/vnd.jupyter.widget-view+json": {
       "model_id": "447e19f53d8d4bfa888ca800ba2071fc",
       "version_major": 2,
       "version_minor": 0
      },
      "text/plain": [
       "HBox(children=(IntProgress(value=1, bar_style='info', max=1), HTML(value='')))"
      ]
     },
     "metadata": {},
     "output_type": "display_data"
    },
    {
     "name": "stdout",
     "output_type": "stream",
     "text": [
      "--------------- Images 1 ----------------\n",
      "Nesterov momentum score: 1.11976\n",
      "--------------- Images 2 ----------------\n",
      "Nesterov momentum score: 1.12336\n",
      "--------------- Images 3 ----------------\n",
      "Nesterov momentum score: 1.1036\n",
      "--------------- Images 4 ----------------\n",
      "Nesterov momentum score: 1.06686\n",
      "\n"
     ]
    }
   ],
   "source": [
    "print (\"Ready attacker one!\")\n",
    "print (\"-------------------------------\")\n",
    "\n",
    "scores = []\n",
    "for idx, img_path in tqdm(enumerate(source_imgs_list.path)):\n",
    "    \n",
    "    i, j = idx // 5, idx % 5\n",
    "    \n",
    "    lr = learning_rates[idx]\n",
    "    img, targets = train_imgs_source[i, j], desc_target[i, :]\n",
    "    pimg, score = attacker.nesterov_attack(img, targets, maxiter=40, alpha0=lr, decay=0.98, tol=2e-4)\n",
    "    pimg = np.clip(denormalize(pimg), 0, 1) \n",
    "    png_img = Image.fromarray(np.array(pimg*255, dtype=np.uint8))\n",
    "    png_img.save(os.path.join(submit_path, img_path))\n",
    "    \n",
    "    if (idx % 5 == 0 and idx > 0):\n",
    "        print (\"--------------- Images\", str(idx//5), \"----------------\")\n",
    "        print (\"Nesterov momentum score:\", round(np.mean(scores), 5))\n",
    "    scores.append(score)"
   ]
  },
  {
   "cell_type": "markdown",
   "metadata": {},
   "source": [
    "### Calculate descriptors and  check generated attacks for SSIM violation"
   ]
  },
  {
   "cell_type": "code",
   "execution_count": 11,
   "metadata": {},
   "outputs": [],
   "source": [
    "submit_path = 'submit_main/'"
   ]
  },
  {
   "cell_type": "code",
   "execution_count": 12,
   "metadata": {},
   "outputs": [],
   "source": [
    "def check_image(img_path):\n",
    "    \n",
    "    img1 = Image.open(submit_path+img_path)\n",
    "    img2 = img_to_crop(Image.open(imgs_path+img_path.replace('png', 'jpg')))\n",
    "    desc = net.submit(crop_to_tensor(img1))\n",
    "\n",
    "    ssim_ = ssim(np.array(img1), np.array(img2), multichannel=True)\n",
    "    return desc, (ssim_ < 0.95)"
   ]
  },
  {
   "cell_type": "code",
   "execution_count": 13,
   "metadata": {},
   "outputs": [
    {
     "data": {
      "application/vnd.jupyter.widget-view+json": {
       "model_id": "de6e1071f7b14062894eebe6dfad481a",
       "version_major": 2,
       "version_minor": 0
      },
      "text/plain": [
       "HBox(children=(IntProgress(value=1, bar_style='info', max=1), HTML(value='')))"
      ]
     },
     "metadata": {},
     "output_type": "display_data"
    },
    {
     "name": "stdout",
     "output_type": "stream",
     "text": [
      "\n"
     ]
    }
   ],
   "source": [
    "res_desc = np.zeros((5000, 512), dtype=np.float32)\n",
    "for idx, img_path in tqdm(enumerate(source_imgs_list.path)):\n",
    "    \n",
    "    desc, ssim_is_bad = check_image(img_path)\n",
    "    \n",
    "    tol = 3e-4  \n",
    "    while ssim_is_bad: \n",
    "        print (\"Bitch!\", \"image =\", idx)\n",
    "        i, j = idx // 5, idx % 5\n",
    "        img, targets = train_imgs_source[i, j], desc_target[i, :]\n",
    "        pimg, score = attacker.nesterov_attack(img, targets, maxiter=40, alpha0=0.95, tol=tol)\n",
    "        png_img = Image.fromarray(np.array(pimg*255, dtype=np.uint8))\n",
    "        png_img.save(os.path.join(submit_path, img_path))\n",
    "        desc, ssim_is_bad = check_image(img_path)\n",
    "        tol += 1e-4\n",
    "            \n",
    "    res_desc[idx] = desc.copy()"
   ]
  },
  {
   "cell_type": "code",
   "execution_count": 14,
   "metadata": {},
   "outputs": [],
   "source": [
    "descriptors_path = submit_path + 'descriptors.npy'\n",
    "np.save(descriptors_path, res_desc)"
   ]
  },
  {
   "cell_type": "code",
   "execution_count": 15,
   "metadata": {},
   "outputs": [
    {
     "name": "stdout",
     "output_type": "stream",
     "text": [
      "Loss on public target images: 0.9530307\n"
     ]
    }
   ],
   "source": [
    "diff = (desc_target[:,:20])[:,:,None,:] - res_desc.reshape((1000, 5, 512))[:,None,:,:]\n",
    "score = np.mean(np.linalg.norm(diff, axis=-1))\n",
    "print (\"Loss on public target images:\", score)"
   ]
  },
  {
   "cell_type": "markdown",
   "metadata": {},
   "source": [
    "### Archive everything for submit"
   ]
  },
  {
   "cell_type": "code",
   "execution_count": 16,
   "metadata": {},
   "outputs": [
    {
     "data": {
      "application/vnd.jupyter.widget-view+json": {
       "model_id": "66d4d1b66692405cb4b38aea4374a351",
       "version_major": 2,
       "version_minor": 0
      },
      "text/plain": [
       "HBox(children=(IntProgress(value=0, description='archive', max=5000), HTML(value='')))"
      ]
     },
     "metadata": {},
     "output_type": "display_data"
    },
    {
     "name": "stdout",
     "output_type": "stream",
     "text": [
      "\n"
     ]
    }
   ],
   "source": [
    "source_imgs_list_png = source_imgs_list.copy()\n",
    "source_imgs_list_png.path = source_imgs_list_png.path.apply(lambda x: x[:-3]+'png')\n",
    "\n",
    "if not os.path.isdir('./submits/'):\n",
    "    os.makedirs('./submits')\n",
    "submit_file = './submits/' + submit_path[:-1] + '.zip'\n",
    "    \n",
    "with zipfile.ZipFile(submit_file,'w') as myzip:\n",
    "    for img_name in tqdm(source_imgs_list_png.path.values, desc='archive'):\n",
    "        myzip.write(os.path.join(submit_path[:-1], img_name), arcname=img_name)\n",
    "    myzip.write(descriptors_path, arcname='descriptors.npy')"
   ]
  }
 ],
 "metadata": {
  "kernelspec": {
   "display_name": "Python [default]",
   "language": "python",
   "name": "python3"
  },
  "language_info": {
   "codemirror_mode": {
    "name": "ipython",
    "version": 3
   },
   "file_extension": ".py",
   "mimetype": "text/x-python",
   "name": "python",
   "nbconvert_exporter": "python",
   "pygments_lexer": "ipython3",
   "version": "3.6.5"
  }
 },
 "nbformat": 4,
 "nbformat_minor": 2
}
